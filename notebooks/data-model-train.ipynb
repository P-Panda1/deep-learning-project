{
 "cells": [
  {
   "cell_type": "code",
   "execution_count": 1,
   "metadata": {},
   "outputs": [],
   "source": [
    "import torch\n",
    "import torch.nn as nn"
   ]
  },
  {
   "cell_type": "markdown",
   "metadata": {},
   "source": [
    "# Model"
   ]
  },
  {
   "cell_type": "code",
   "execution_count": 2,
   "metadata": {},
   "outputs": [],
   "source": [
    "# --- Encoder ---\n",
    "class AudioEncoder(nn.Module):\n",
    "    def __init__(self, input_channels=1, conv_channels=32, transformer_dim=256, num_layers=4):\n",
    "        super(AudioEncoder, self).__init__()\n",
    "        self.conv = nn.Sequential(\n",
    "            nn.MaxPool1d(kernel_size=441, stride=441),  # [B, 441000] → [B, 1, 1000]\n",
    "            nn.Conv1d(input_channels, conv_channels, kernel_size=10, stride=10, padding=0),  # [B, 1, 1000] → [B, 32, 100]\n",
    "            nn.BatchNorm1d(conv_channels),\n",
    "            nn.ReLU(),\n",
    "            nn.Conv1d(conv_channels, 2 * conv_channels, kernel_size=12, stride=4, padding=4),   # [B, 32, 100] → [B, 32, 25]\n",
    "            nn.BatchNorm1d(2 * conv_channels),\n",
    "            nn.ReLU(),\n",
    "            nn.Conv1d(2 * conv_channels, conv_channels, kernel_size=5, stride=1, padding=2),   # [B, 32, 25] → [B, 32, 25]\n",
    "        )\n",
    "\n",
    "\n",
    "        # self.pos_encoder = nn.Parameter(torch.randn(1, 100, transformer_dim))  # Pos encoding\n",
    "        self.linear_proj = nn.Linear(conv_channels, transformer_dim)             # [B, 32, 25] → [B, 25, 256]\n",
    "\n",
    "        # encoder_layer = nn.TransformerEncoderLayer(d_model=transformer_dim, nhead=8)\n",
    "        # self.transformer = nn.TransformerEncoder(encoder_layer, num_layers=num_layers)\n",
    "\n",
    "    def forward(self, x):\n",
    "        x = x.unsqueeze(1)  # [B, 441000] → [B, 1, 441000]\n",
    "        x = torch.abs(x)\n",
    "        x = self.conv(x)    # → [B, 256, 25]\n",
    "        x = x.permute(0, 2, 1)  # → [B, 25, 256]\n",
    "        x = self.linear_proj(x)  # → [B, 25, 256]\n",
    "        # x = x + self.pos_encoder[:, :x.size(1)]  # Add positional encoding\n",
    "        # x = x.permute(1, 0, 2)  # → [4410, B, 256] for Transformer\n",
    "        # x = self.transformer(x)  # → [4410, B, 256]\n",
    "        # x = x.permute(1, 0, 2)  # → [B, 4410, 256]\n",
    "        # Commenting out the transformer for simplicity\n",
    "        return x"
   ]
  },
  {
   "cell_type": "code",
   "execution_count": 3,
   "metadata": {},
   "outputs": [],
   "source": [
    "class AudioDecoder(nn.Module):\n",
    "    def __init__(self, transformer_dim=256, num_classes=10):\n",
    "        super(AudioDecoder, self).__init__()\n",
    "        self.pool = nn.AdaptiveAvgPool1d(1)  # → [B, 256, 1]\n",
    "        self.classifier = nn.Linear(transformer_dim, num_classes)\n",
    "\n",
    "    def forward(self, x):\n",
    "        x = x.permute(0, 2, 1)  # [B, 100, 256] → [B, 256, 100]\n",
    "        x = self.pool(x).squeeze(-1)  # → [B, 256]\n",
    "        x = self.classifier(x)  # → [B, 10]\n",
    "        return x"
   ]
  },
  {
   "cell_type": "code",
   "execution_count": 4,
   "metadata": {},
   "outputs": [],
   "source": [
    "# --- Full Model ---\n",
    "class ConvTransformerAudioClassifier(nn.Module):\n",
    "    def __init__(self):\n",
    "        super(ConvTransformerAudioClassifier, self).__init__()\n",
    "        self.encoder = AudioEncoder()\n",
    "        self.decoder = AudioDecoder()\n",
    "\n",
    "    def forward(self, x):\n",
    "        encoded = self.encoder(x)  # → [B, ~11025, 256]\n",
    "        logits = self.decoder(encoded)  # → [B, 10]\n",
    "        return logits\n"
   ]
  },
  {
   "cell_type": "code",
   "execution_count": 5,
   "metadata": {},
   "outputs": [
    {
     "data": {
      "text/plain": [
       "ConvTransformerAudioClassifier(\n",
       "  (encoder): AudioEncoder(\n",
       "    (conv): Sequential(\n",
       "      (0): MaxPool1d(kernel_size=441, stride=441, padding=0, dilation=1, ceil_mode=False)\n",
       "      (1): Conv1d(1, 32, kernel_size=(10,), stride=(10,))\n",
       "      (2): BatchNorm1d(32, eps=1e-05, momentum=0.1, affine=True, track_running_stats=True)\n",
       "      (3): ReLU()\n",
       "      (4): Conv1d(32, 64, kernel_size=(12,), stride=(4,), padding=(4,))\n",
       "      (5): BatchNorm1d(64, eps=1e-05, momentum=0.1, affine=True, track_running_stats=True)\n",
       "      (6): ReLU()\n",
       "      (7): Conv1d(64, 32, kernel_size=(5,), stride=(1,), padding=(2,))\n",
       "    )\n",
       "    (linear_proj): Linear(in_features=32, out_features=256, bias=True)\n",
       "  )\n",
       "  (decoder): AudioDecoder(\n",
       "    (pool): AdaptiveAvgPool1d(output_size=1)\n",
       "    (classifier): Linear(in_features=256, out_features=10, bias=True)\n",
       "  )\n",
       ")"
      ]
     },
     "execution_count": 5,
     "metadata": {},
     "output_type": "execute_result"
    }
   ],
   "source": [
    "model = ConvTransformerAudioClassifier()\n",
    "\n",
    "model.eval()"
   ]
  },
  {
   "cell_type": "markdown",
   "metadata": {},
   "source": [
    "# Training"
   ]
  },
  {
   "cell_type": "code",
   "execution_count": 6,
   "metadata": {},
   "outputs": [],
   "source": [
    "import torch\n",
    "import torch.nn as nn\n",
    "import matplotlib.pyplot as plt\n",
    "from tqdm import tqdm\n",
    "from IPython.display import clear_output, display, Markdown\n",
    "\n",
    "def train_model(model, train_loader, test_loader, epochs=10, device='cuda' if torch.cuda.is_available() else 'cpu', save_path='best_model.pth'):\n",
    "    model.to(device)\n",
    "    optimizer = torch.optim.Adam(model.parameters(), lr=1e-4)\n",
    "    scheduler = torch.optim.lr_scheduler.ReduceLROnPlateau(optimizer, mode='max', factor=0.5, patience=2, verbose=True)\n",
    "\n",
    "    criterion = nn.BCEWithLogitsLoss()\n",
    "\n",
    "    test_accuracies = []\n",
    "    best_test_accuracy = 0\n",
    "\n",
    "    for epoch in range(1, epochs + 1):\n",
    "        model.train()\n",
    "        running_loss = 0\n",
    "        total_batches = 0\n",
    "        \n",
    "        with tqdm(train_loader, desc=f\"Epoch {epoch}/{epochs} - Training\", unit=\"batch\", leave=False) as pbar:\n",
    "            for x, y in pbar:\n",
    "                x, y = x.to(device), y.to(device)\n",
    "                y_labels = y.float()\n",
    "\n",
    "                optimizer.zero_grad()\n",
    "                preds = model(x)\n",
    "                loss = criterion(preds, y_labels)\n",
    "                loss.backward()\n",
    "                optimizer.step()\n",
    "\n",
    "                predicted = torch.sigmoid(preds) > 0.5\n",
    "                acc = (predicted == y_labels.bool()).float().mean() * 100\n",
    "                \n",
    "\n",
    "                running_loss += loss.item()\n",
    "                total_batches += 1\n",
    "\n",
    "                pbar.set_postfix({\n",
    "                    'loss': f'{loss.item():.4f}',\n",
    "                    'acc': f'{acc.item():.2f}'\n",
    "                })\n",
    "\n",
    "        train_loss = running_loss / total_batches if total_batches > 0 else 0\n",
    "\n",
    "        model.eval()\n",
    "        total_correct = 0\n",
    "        total_count = 0\n",
    "        with torch.no_grad():\n",
    "            for x, y in test_loader:\n",
    "                x, y = x.to(device), y.to(device)\n",
    "                y_labels = y.float()\n",
    "                preds = model(x)\n",
    "                predicted = torch.sigmoid(preds) > 0.5\n",
    "                correct = (predicted == y_labels.bool()).sum()\n",
    "                total_correct += correct.item()\n",
    "                total_count += y.numel()\n",
    "\n",
    "        test_acc = (total_correct / total_count) * 100\n",
    "        scheduler.step(test_acc)\n",
    "        test_accuracies.append(test_acc)\n",
    "\n",
    "        # Save model if best\n",
    "        if test_acc > best_test_accuracy:\n",
    "            torch.save(model.state_dict(), save_path)\n",
    "            best_test_accuracy = test_acc\n",
    "\n",
    "        # Clear output and display updated results\n",
    "        clear_output(wait=True)\n",
    "        display(Markdown(f\"### 📘 Epoch {epoch} Results\"))\n",
    "        display(Markdown(f\"- **Train Loss**: `{train_loss:.4f}`\"))\n",
    "        display(Markdown(f\"- **Test Accuracy**: `{test_acc:.2f}`\"))\n",
    "        display(Markdown(f\"- **Best Accuracy So Far**: `{best_test_accuracy:.2f}`\"))\n",
    "\n",
    "        # Plot accuracy progression\n",
    "        plt.figure(figsize=(8, 4))\n",
    "        plt.plot(range(1, len(test_accuracies) + 1), test_accuracies, marker='o', color='royalblue')\n",
    "        plt.title(\"📈 Test Accuracy Over Epochs\")\n",
    "        plt.xlabel(\"Epoch\")\n",
    "        plt.ylabel(\"Test Accuracy (%)\")\n",
    "        plt.grid(True)\n",
    "        plt.tight_layout()\n",
    "        plt.show()\n"
   ]
  },
  {
   "cell_type": "code",
   "execution_count": 7,
   "metadata": {},
   "outputs": [
    {
     "name": "stdout",
     "output_type": "stream",
     "text": [
      "Found instrument IDs: [43]\n",
      "Found instrument IDs: [61 72 71]\n"
     ]
    }
   ],
   "source": [
    "from src.dataExt import *\n",
    "\n",
    "train_loader = MusicNetLoader(root=os.path.expanduser(\"~/data/musicnet\"), label=\"train\")\n",
    "test_loader = MusicNetLoader(root=os.path.expanduser(\"~/data/musicnet\"), label=\"test\")\n",
    "\n",
    "train_dataloader = train_loader.get_loader(batch_size=1000)\n",
    "test_dataloader = test_loader.get_loader(batch_size=1000)"
   ]
  },
  {
   "cell_type": "code",
   "execution_count": 8,
   "metadata": {},
   "outputs": [
    {
     "data": {
      "text/markdown": [
       "### 📘 Epoch 71 Results"
      ],
      "text/plain": [
       "<IPython.core.display.Markdown object>"
      ]
     },
     "metadata": {},
     "output_type": "display_data"
    },
    {
     "data": {
      "text/markdown": [
       "- **Train Loss**: `0.2577`"
      ],
      "text/plain": [
       "<IPython.core.display.Markdown object>"
      ]
     },
     "metadata": {},
     "output_type": "display_data"
    },
    {
     "data": {
      "text/markdown": [
       "- **Test Accuracy**: `85.10`"
      ],
      "text/plain": [
       "<IPython.core.display.Markdown object>"
      ]
     },
     "metadata": {},
     "output_type": "display_data"
    },
    {
     "data": {
      "text/markdown": [
       "- **Best Accuracy So Far**: `85.10`"
      ],
      "text/plain": [
       "<IPython.core.display.Markdown object>"
      ]
     },
     "metadata": {},
     "output_type": "display_data"
    },
    {
     "data": {
      "image/png": "[encoded data removed]",
      "text/plain": [
       "<Figure size 800x400 with 1 Axes>"
      ]
     },
     "metadata": {},
     "output_type": "display_data"
    },
    {
     "name": "stderr",
     "output_type": "stream",
     "text": [
      "                                                                  \r"
     ]
    },
    {
     "ename": "KeyboardInterrupt",
     "evalue": "",
     "output_type": "error",
     "traceback": [
      "\u001b[0;31m---------------------------------------------------------------------------\u001b[0m",
      "\u001b[0;31mKeyboardInterrupt\u001b[0m                         Traceback (most recent call last)",
      "Cell \u001b[0;32mIn[8], line 1\u001b[0m\n\u001b[0;32m----> 1\u001b[0m train_model(model, train_dataloader, test_dataloader, epochs\u001b[38;5;241m=\u001b[39m\u001b[38;5;241m100\u001b[39m, save_path\u001b[38;5;241m=\u001b[39m\u001b[38;5;124m'\u001b[39m\u001b[38;5;124m../models/my_best_model.pth\u001b[39m\u001b[38;5;124m'\u001b[39m)\n",
      "Cell \u001b[0;32mIn[6], line 23\u001b[0m, in \u001b[0;36mtrain_model\u001b[0;34m(model, train_loader, test_loader, epochs, device, save_path)\u001b[0m\n\u001b[1;32m     20\u001b[0m total_batches \u001b[38;5;241m=\u001b[39m \u001b[38;5;241m0\u001b[39m\n\u001b[1;32m     22\u001b[0m \u001b[38;5;28;01mwith\u001b[39;00m tqdm(train_loader, desc\u001b[38;5;241m=\u001b[39m\u001b[38;5;124mf\u001b[39m\u001b[38;5;124m\"\u001b[39m\u001b[38;5;124mEpoch \u001b[39m\u001b[38;5;132;01m{\u001b[39;00mepoch\u001b[38;5;132;01m}\u001b[39;00m\u001b[38;5;124m/\u001b[39m\u001b[38;5;132;01m{\u001b[39;00mepochs\u001b[38;5;132;01m}\u001b[39;00m\u001b[38;5;124m - Training\u001b[39m\u001b[38;5;124m\"\u001b[39m, unit\u001b[38;5;241m=\u001b[39m\u001b[38;5;124m\"\u001b[39m\u001b[38;5;124mbatch\u001b[39m\u001b[38;5;124m\"\u001b[39m, leave\u001b[38;5;241m=\u001b[39m\u001b[38;5;28;01mFalse\u001b[39;00m) \u001b[38;5;28;01mas\u001b[39;00m pbar:\n\u001b[0;32m---> 23\u001b[0m     \u001b[38;5;28;01mfor\u001b[39;00m x, y \u001b[38;5;129;01min\u001b[39;00m pbar:\n\u001b[1;32m     24\u001b[0m         x, y \u001b[38;5;241m=\u001b[39m x\u001b[38;5;241m.\u001b[39mto(device), y\u001b[38;5;241m.\u001b[39mto(device)\n\u001b[1;32m     25\u001b[0m         y_labels \u001b[38;5;241m=\u001b[39m y\u001b[38;5;241m.\u001b[39mfloat()\n",
      "File \u001b[0;32m/opt/anaconda3/lib/python3.11/site-packages/tqdm/std.py:1181\u001b[0m, in \u001b[0;36mtqdm.__iter__\u001b[0;34m(self)\u001b[0m\n\u001b[1;32m   1178\u001b[0m time \u001b[38;5;241m=\u001b[39m \u001b[38;5;28mself\u001b[39m\u001b[38;5;241m.\u001b[39m_time\n\u001b[1;32m   1180\u001b[0m \u001b[38;5;28;01mtry\u001b[39;00m:\n\u001b[0;32m-> 1181\u001b[0m     \u001b[38;5;28;01mfor\u001b[39;00m obj \u001b[38;5;129;01min\u001b[39;00m iterable:\n\u001b[1;32m   1182\u001b[0m         \u001b[38;5;28;01myield\u001b[39;00m obj\n\u001b[1;32m   1183\u001b[0m         \u001b[38;5;66;03m# Update and possibly print the progressbar.\u001b[39;00m\n\u001b[1;32m   1184\u001b[0m         \u001b[38;5;66;03m# Note: does not call self.update(1) for speed optimisation.\u001b[39;00m\n",
      "File \u001b[0;32m/opt/anaconda3/lib/python3.11/site-packages/torch/utils/data/dataloader.py:630\u001b[0m, in \u001b[0;36m_BaseDataLoaderIter.__next__\u001b[0;34m(self)\u001b[0m\n\u001b[1;32m    627\u001b[0m \u001b[38;5;28;01mif\u001b[39;00m \u001b[38;5;28mself\u001b[39m\u001b[38;5;241m.\u001b[39m_sampler_iter \u001b[38;5;129;01mis\u001b[39;00m \u001b[38;5;28;01mNone\u001b[39;00m:\n\u001b[1;32m    628\u001b[0m     \u001b[38;5;66;03m# TODO(https://github.com/pytorch/pytorch/issues/76750)\u001b[39;00m\n\u001b[1;32m    629\u001b[0m     \u001b[38;5;28mself\u001b[39m\u001b[38;5;241m.\u001b[39m_reset()  \u001b[38;5;66;03m# type: ignore[call-arg]\u001b[39;00m\n\u001b[0;32m--> 630\u001b[0m data \u001b[38;5;241m=\u001b[39m \u001b[38;5;28mself\u001b[39m\u001b[38;5;241m.\u001b[39m_next_data()\n\u001b[1;32m    631\u001b[0m \u001b[38;5;28mself\u001b[39m\u001b[38;5;241m.\u001b[39m_num_yielded \u001b[38;5;241m+\u001b[39m\u001b[38;5;241m=\u001b[39m \u001b[38;5;241m1\u001b[39m\n\u001b[1;32m    632\u001b[0m \u001b[38;5;28;01mif\u001b[39;00m \u001b[38;5;28mself\u001b[39m\u001b[38;5;241m.\u001b[39m_dataset_kind \u001b[38;5;241m==\u001b[39m _DatasetKind\u001b[38;5;241m.\u001b[39mIterable \u001b[38;5;129;01mand\u001b[39;00m \\\n\u001b[1;32m    633\u001b[0m         \u001b[38;5;28mself\u001b[39m\u001b[38;5;241m.\u001b[39m_IterableDataset_len_called \u001b[38;5;129;01mis\u001b[39;00m \u001b[38;5;129;01mnot\u001b[39;00m \u001b[38;5;28;01mNone\u001b[39;00m \u001b[38;5;129;01mand\u001b[39;00m \\\n\u001b[1;32m    634\u001b[0m         \u001b[38;5;28mself\u001b[39m\u001b[38;5;241m.\u001b[39m_num_yielded \u001b[38;5;241m>\u001b[39m \u001b[38;5;28mself\u001b[39m\u001b[38;5;241m.\u001b[39m_IterableDataset_len_called:\n",
      "File \u001b[0;32m/opt/anaconda3/lib/python3.11/site-packages/torch/utils/data/dataloader.py:1328\u001b[0m, in \u001b[0;36m_MultiProcessingDataLoaderIter._next_data\u001b[0;34m(self)\u001b[0m\n\u001b[1;32m   1325\u001b[0m     \u001b[38;5;28;01mreturn\u001b[39;00m \u001b[38;5;28mself\u001b[39m\u001b[38;5;241m.\u001b[39m_process_data(data)\n\u001b[1;32m   1327\u001b[0m \u001b[38;5;28;01massert\u001b[39;00m \u001b[38;5;129;01mnot\u001b[39;00m \u001b[38;5;28mself\u001b[39m\u001b[38;5;241m.\u001b[39m_shutdown \u001b[38;5;129;01mand\u001b[39;00m \u001b[38;5;28mself\u001b[39m\u001b[38;5;241m.\u001b[39m_tasks_outstanding \u001b[38;5;241m>\u001b[39m \u001b[38;5;241m0\u001b[39m\n\u001b[0;32m-> 1328\u001b[0m idx, data \u001b[38;5;241m=\u001b[39m \u001b[38;5;28mself\u001b[39m\u001b[38;5;241m.\u001b[39m_get_data()\n\u001b[1;32m   1329\u001b[0m \u001b[38;5;28mself\u001b[39m\u001b[38;5;241m.\u001b[39m_tasks_outstanding \u001b[38;5;241m-\u001b[39m\u001b[38;5;241m=\u001b[39m \u001b[38;5;241m1\u001b[39m\n\u001b[1;32m   1330\u001b[0m \u001b[38;5;28;01mif\u001b[39;00m \u001b[38;5;28mself\u001b[39m\u001b[38;5;241m.\u001b[39m_dataset_kind \u001b[38;5;241m==\u001b[39m _DatasetKind\u001b[38;5;241m.\u001b[39mIterable:\n\u001b[1;32m   1331\u001b[0m     \u001b[38;5;66;03m# Check for _IterableDatasetStopIteration\u001b[39;00m\n",
      "File \u001b[0;32m/opt/anaconda3/lib/python3.11/site-packages/torch/utils/data/dataloader.py:1294\u001b[0m, in \u001b[0;36m_MultiProcessingDataLoaderIter._get_data\u001b[0;34m(self)\u001b[0m\n\u001b[1;32m   1290\u001b[0m     \u001b[38;5;66;03m# In this case, `self._data_queue` is a `queue.Queue`,. But we don't\u001b[39;00m\n\u001b[1;32m   1291\u001b[0m     \u001b[38;5;66;03m# need to call `.task_done()` because we don't use `.join()`.\u001b[39;00m\n\u001b[1;32m   1292\u001b[0m \u001b[38;5;28;01melse\u001b[39;00m:\n\u001b[1;32m   1293\u001b[0m     \u001b[38;5;28;01mwhile\u001b[39;00m \u001b[38;5;28;01mTrue\u001b[39;00m:\n\u001b[0;32m-> 1294\u001b[0m         success, data \u001b[38;5;241m=\u001b[39m \u001b[38;5;28mself\u001b[39m\u001b[38;5;241m.\u001b[39m_try_get_data()\n\u001b[1;32m   1295\u001b[0m         \u001b[38;5;28;01mif\u001b[39;00m success:\n\u001b[1;32m   1296\u001b[0m             \u001b[38;5;28;01mreturn\u001b[39;00m data\n",
      "File \u001b[0;32m/opt/anaconda3/lib/python3.11/site-packages/torch/utils/data/dataloader.py:1132\u001b[0m, in \u001b[0;36m_MultiProcessingDataLoaderIter._try_get_data\u001b[0;34m(self, timeout)\u001b[0m\n\u001b[1;32m   1119\u001b[0m \u001b[38;5;28;01mdef\u001b[39;00m \u001b[38;5;21m_try_get_data\u001b[39m(\u001b[38;5;28mself\u001b[39m, timeout\u001b[38;5;241m=\u001b[39m_utils\u001b[38;5;241m.\u001b[39mMP_STATUS_CHECK_INTERVAL):\n\u001b[1;32m   1120\u001b[0m     \u001b[38;5;66;03m# Tries to fetch data from `self._data_queue` once for a given timeout.\u001b[39;00m\n\u001b[1;32m   1121\u001b[0m     \u001b[38;5;66;03m# This can also be used as inner loop of fetching without timeout, with\u001b[39;00m\n\u001b[0;32m   (...)\u001b[0m\n\u001b[1;32m   1129\u001b[0m     \u001b[38;5;66;03m# Returns a 2-tuple:\u001b[39;00m\n\u001b[1;32m   1130\u001b[0m     \u001b[38;5;66;03m#   (bool: whether successfully get data, any: data if successful else None)\u001b[39;00m\n\u001b[1;32m   1131\u001b[0m     \u001b[38;5;28;01mtry\u001b[39;00m:\n\u001b[0;32m-> 1132\u001b[0m         data \u001b[38;5;241m=\u001b[39m \u001b[38;5;28mself\u001b[39m\u001b[38;5;241m.\u001b[39m_data_queue\u001b[38;5;241m.\u001b[39mget(timeout\u001b[38;5;241m=\u001b[39mtimeout)\n\u001b[1;32m   1133\u001b[0m         \u001b[38;5;28;01mreturn\u001b[39;00m (\u001b[38;5;28;01mTrue\u001b[39;00m, data)\n\u001b[1;32m   1134\u001b[0m     \u001b[38;5;28;01mexcept\u001b[39;00m \u001b[38;5;167;01mException\u001b[39;00m \u001b[38;5;28;01mas\u001b[39;00m e:\n\u001b[1;32m   1135\u001b[0m         \u001b[38;5;66;03m# At timeout and error, we manually check whether any worker has\u001b[39;00m\n\u001b[1;32m   1136\u001b[0m         \u001b[38;5;66;03m# failed. Note that this is the only mechanism for Windows to detect\u001b[39;00m\n\u001b[1;32m   1137\u001b[0m         \u001b[38;5;66;03m# worker failures.\u001b[39;00m\n",
      "File \u001b[0;32m/opt/anaconda3/lib/python3.11/multiprocessing/queues.py:113\u001b[0m, in \u001b[0;36mQueue.get\u001b[0;34m(self, block, timeout)\u001b[0m\n\u001b[1;32m    111\u001b[0m \u001b[38;5;28;01mif\u001b[39;00m block:\n\u001b[1;32m    112\u001b[0m     timeout \u001b[38;5;241m=\u001b[39m deadline \u001b[38;5;241m-\u001b[39m time\u001b[38;5;241m.\u001b[39mmonotonic()\n\u001b[0;32m--> 113\u001b[0m     \u001b[38;5;28;01mif\u001b[39;00m \u001b[38;5;129;01mnot\u001b[39;00m \u001b[38;5;28mself\u001b[39m\u001b[38;5;241m.\u001b[39m_poll(timeout):\n\u001b[1;32m    114\u001b[0m         \u001b[38;5;28;01mraise\u001b[39;00m Empty\n\u001b[1;32m    115\u001b[0m \u001b[38;5;28;01melif\u001b[39;00m \u001b[38;5;129;01mnot\u001b[39;00m \u001b[38;5;28mself\u001b[39m\u001b[38;5;241m.\u001b[39m_poll():\n",
      "File \u001b[0;32m/opt/anaconda3/lib/python3.11/multiprocessing/connection.py:257\u001b[0m, in \u001b[0;36m_ConnectionBase.poll\u001b[0;34m(self, timeout)\u001b[0m\n\u001b[1;32m    255\u001b[0m \u001b[38;5;28mself\u001b[39m\u001b[38;5;241m.\u001b[39m_check_closed()\n\u001b[1;32m    256\u001b[0m \u001b[38;5;28mself\u001b[39m\u001b[38;5;241m.\u001b[39m_check_readable()\n\u001b[0;32m--> 257\u001b[0m \u001b[38;5;28;01mreturn\u001b[39;00m \u001b[38;5;28mself\u001b[39m\u001b[38;5;241m.\u001b[39m_poll(timeout)\n",
      "File \u001b[0;32m/opt/anaconda3/lib/python3.11/multiprocessing/connection.py:440\u001b[0m, in \u001b[0;36mConnection._poll\u001b[0;34m(self, timeout)\u001b[0m\n\u001b[1;32m    439\u001b[0m \u001b[38;5;28;01mdef\u001b[39;00m \u001b[38;5;21m_poll\u001b[39m(\u001b[38;5;28mself\u001b[39m, timeout):\n\u001b[0;32m--> 440\u001b[0m     r \u001b[38;5;241m=\u001b[39m wait([\u001b[38;5;28mself\u001b[39m], timeout)\n\u001b[1;32m    441\u001b[0m     \u001b[38;5;28;01mreturn\u001b[39;00m \u001b[38;5;28mbool\u001b[39m(r)\n",
      "File \u001b[0;32m/opt/anaconda3/lib/python3.11/multiprocessing/connection.py:947\u001b[0m, in \u001b[0;36mwait\u001b[0;34m(object_list, timeout)\u001b[0m\n\u001b[1;32m    944\u001b[0m     deadline \u001b[38;5;241m=\u001b[39m time\u001b[38;5;241m.\u001b[39mmonotonic() \u001b[38;5;241m+\u001b[39m timeout\n\u001b[1;32m    946\u001b[0m \u001b[38;5;28;01mwhile\u001b[39;00m \u001b[38;5;28;01mTrue\u001b[39;00m:\n\u001b[0;32m--> 947\u001b[0m     ready \u001b[38;5;241m=\u001b[39m selector\u001b[38;5;241m.\u001b[39mselect(timeout)\n\u001b[1;32m    948\u001b[0m     \u001b[38;5;28;01mif\u001b[39;00m ready:\n\u001b[1;32m    949\u001b[0m         \u001b[38;5;28;01mreturn\u001b[39;00m [key\u001b[38;5;241m.\u001b[39mfileobj \u001b[38;5;28;01mfor\u001b[39;00m (key, events) \u001b[38;5;129;01min\u001b[39;00m ready]\n",
      "File \u001b[0;32m/opt/anaconda3/lib/python3.11/selectors.py:415\u001b[0m, in \u001b[0;36m_PollLikeSelector.select\u001b[0;34m(self, timeout)\u001b[0m\n\u001b[1;32m    413\u001b[0m ready \u001b[38;5;241m=\u001b[39m []\n\u001b[1;32m    414\u001b[0m \u001b[38;5;28;01mtry\u001b[39;00m:\n\u001b[0;32m--> 415\u001b[0m     fd_event_list \u001b[38;5;241m=\u001b[39m \u001b[38;5;28mself\u001b[39m\u001b[38;5;241m.\u001b[39m_selector\u001b[38;5;241m.\u001b[39mpoll(timeout)\n\u001b[1;32m    416\u001b[0m \u001b[38;5;28;01mexcept\u001b[39;00m \u001b[38;5;167;01mInterruptedError\u001b[39;00m:\n\u001b[1;32m    417\u001b[0m     \u001b[38;5;28;01mreturn\u001b[39;00m ready\n",
      "\u001b[0;31mKeyboardInterrupt\u001b[0m: "
     ]
    }
   ],
   "source": [
    "train_model(model, train_dataloader, test_dataloader, epochs=100, save_path='../models/my_best_model.pth')"
   ]
  },
  {
   "cell_type": "code",
   "execution_count": 9,
   "metadata": {},
   "outputs": [],
   "source": [
    "# Save the model\n",
    "torch.save(model.state_dict(), '../models/my_model.pth')"
   ]
  },
  {
   "cell_type": "code",
   "execution_count": null,
   "metadata": {},
   "outputs": [],
   "source": [
    "import torch\n",
    "import torch.nn as nn\n",
    "import matplotlib.pyplot as plt\n",
    "from tqdm import tqdm\n",
    "\n",
    "def train_model_adv(model, train_loader, test_loader, epochs=10, device='cuda' if torch.cuda.is_available() else 'cpu', save_path='best_model.pth'):\n",
    "    model.to(device)\n",
    "    optimizer = torch.optim.Adam(model.parameters(), lr=1e-2)\n",
    "    # criterion = nn.CrossEntropyLoss()\n",
    "    criterion = nn.BCEWithLogitsLoss()\n",
    "\n",
    "\n",
    "    test_accuracies = []\n",
    "    best_test_accuracy = 0\n",
    "\n",
    "    for epoch in range(1, epochs + 1):\n",
    "        print(f\"\\nEpoch {epoch}/{epochs}\")\n",
    "        model.train()\n",
    "        \n",
    "        with tqdm(train_loader, desc=f\"Training\", unit=\"batch\", leave=False) as pbar:\n",
    "            for x, y in pbar:\n",
    "                x, y = x.to(device), y.to(device)\n",
    "                \n",
    "                y_labels = y.float()\n",
    "                \n",
    "                optimizer.zero_grad()\n",
    "                preds = model(x)\n",
    "                loss = criterion(preds, y_labels)\n",
    "\n",
    "\n",
    "                    \n",
    "                loss.backward()\n",
    "                optimizer.step()\n",
    "\n",
    "\n",
    "                \n",
    "                # Calculate metrics\n",
    "                # Get binary predictions\n",
    "                predicted = torch.sigmoid(preds) > 0.5\n",
    "\n",
    "                # Mask where both prediction and actual are 0 → ignore those\n",
    "                mask = ~((predicted == 0) & (y_labels == 0))\n",
    "\n",
    "                # Compute accuracy only over unmasked elements\n",
    "                if mask.sum() > 0:\n",
    "                    acc = (predicted[mask] == y_labels[mask].bool()).float().mean() * 100\n",
    "                else:\n",
    "                    acc = torch.tensor(0.0, device=device)\n",
    "\n",
    "\n",
    "                pbar.set_postfix({\n",
    "                    'loss': f'{loss.item():.4f}',\n",
    "                    'acc': f'{acc.item():.4f}'\n",
    "                })\n",
    "                \n",
    "\n",
    "        # Validation\n",
    "        model.eval()\n",
    "        total_correct = 0\n",
    "        total_samples = 0\n",
    "        with torch.no_grad():\n",
    "            for x, y in test_loader:\n",
    "                x, y = x.to(device), y.to(device)\n",
    "                y_labels = y.float() # Convert test labels too\n",
    "                preds = model(x)\n",
    "                predicted = torch.sigmoid(preds) > 0.5\n",
    "                mask = ~((predicted == 0) & (y_labels == 0))\n",
    "                if mask.sum() > 0:\n",
    "                    batch_acc = (predicted[mask] == y_labels[mask].bool()).float().mean()\n",
    "                else:\n",
    "                    batch_acc = torch.tensor(0.0, device=device)\n",
    "\n",
    "                total_correct += batch_acc\n",
    "\n",
    "                total_samples += y.size(0)\n",
    "        \n",
    "        test_acc = (total_correct / total_samples) * 100\n",
    "        test_accuracies.append(test_acc)\n",
    "\n",
    "        if test_acc > best_test_accuracy:\n",
    "            torch.save(model.state_dict(), save_path)\n",
    "            print(f\"Test accuracy improved ({best_test_accuracy:.4f} → {test_acc:.4f}). Model saved to {save_path}\")\n",
    "            best_test_accuracy = test_acc\n",
    "\n",
    "        print(f\"Test Accuracy: {test_acc:.4f} (Best: {best_test_accuracy:.4f})\")\n",
    "        print(f\"Accuracy History: {[f'{a:.4f}' for a in test_accuracies]}\")\n",
    "\n",
    "        plt.figure(figsize=(6, 4))\n",
    "        plt.plot(range(1, epoch+1), test_accuracies, marker='o')\n",
    "        plt.title('Test Accuracy per Epoch')\n",
    "        plt.xlabel('Epoch')\n",
    "        plt.ylabel('Accuracy')\n",
    "        plt.grid(True)\n",
    "        plt.show()"
   ]
  },
  {
   "cell_type": "code",
   "execution_count": null,
   "metadata": {},
   "outputs": [],
   "source": [
    "train_model_adv(model, train_dataloader, test_dataloader, epochs=1, save_path='../models/my_best_model.pth')"
   ]
  },
  {
   "cell_type": "code",
   "execution_count": null,
   "metadata": {},
   "outputs": [],
   "source": [
    "for x, y in test_dataloader:\n",
    "    print(x)\n",
    "    print(y)\n",
    "    break"
   ]
  },
  {
   "cell_type": "code",
   "execution_count": null,
   "metadata": {},
   "outputs": [],
   "source": []
  }
 ],
 "metadata": {
  "kernelspec": {
   "display_name": "base",
   "language": "python",
   "name": "python3"
  },
  "language_info": {
   "codemirror_mode": {
    "name": "ipython",
    "version": 3
   },
   "file_extension": ".py",
   "mimetype": "text/x-python",
   "name": "python",
   "nbconvert_exporter": "python",
   "pygments_lexer": "ipython3",
   "version": "3.11.8"
  }
 },
 "nbformat": 4,
 "nbformat_minor": 2
}
